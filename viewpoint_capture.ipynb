{
 "cells": [
  {
   "cell_type": "code",
   "execution_count": null,
   "id": "dense-plaintiff",
   "metadata": {},
   "outputs": [],
   "source": [
    "# $ npm install\n",
    "# $ npm start"
   ]
  },
  {
   "cell_type": "code",
   "execution_count": 1,
   "id": "dangerous-seeker",
   "metadata": {},
   "outputs": [],
   "source": [
    "import os\n",
    "import math\n",
    "import time\n",
    "import datetime\n",
    "import requests\n",
    "import pandas as pd\n",
    "import cesium_viewer_script as cvs\n",
    "\n",
    "from PIL import Image\n",
    "from time import sleep \n",
    "from selenium import webdriver\n",
    "from selenium.webdriver.chrome.options import Options\n",
    "\n",
    "# options = Options()\n",
    "# options.add_argument('--headless')\n",
    "# options.add_argument('--disable-gpu') \n"
   ]
  },
  {
   "cell_type": "code",
   "execution_count": 2,
   "id": "optical-illustration",
   "metadata": {},
   "outputs": [],
   "source": [
    "chrome_path = r'Source/chromedriver.exe'\n",
    "driver = webdriver.Chrome(executable_path=chrome_path)\n",
    "driver.set_window_size(1025,1150)\n",
    "driver.get(\"http://localhost:8889/\")"
   ]
  },
  {
   "cell_type": "code",
   "execution_count": 3,
   "id": "final-denver",
   "metadata": {},
   "outputs": [
    {
     "data": {
      "text/plain": [
       "{'width': 1025, 'height': 1150}"
      ]
     },
     "execution_count": 3,
     "metadata": {},
     "output_type": "execute_result"
    }
   ],
   "source": [
    "driver.get_window_size()"
   ]
  },
  {
   "cell_type": "code",
   "execution_count": 4,
   "id": "occasional-nutrition",
   "metadata": {},
   "outputs": [],
   "source": [
    "#set up project folder\n",
    "\n",
    "os.chdir(r'projects')\n",
    "project_name = 'hotel_run'\n",
    "image_coll_name = 'Images'\n",
    "\n",
    "if not os.path.exists(project_name):\n",
    "    os.makedirs(project_name)\n",
    "os.chdir(project_name)\n",
    "if not os.path.exists(image_coll_name):\n",
    "    os.makedirs(image_coll_name)"
   ]
  },
  {
   "cell_type": "code",
   "execution_count": 5,
   "id": "lined-livestock",
   "metadata": {},
   "outputs": [],
   "source": [
    "#upload coordinates to project folder\n",
    "path_to_img_coords = r'C:\\Users\\swietek\\Documents\\View\\raw_data\\swiss_hotel_viewpoints_4imagecollection.csv'\n",
    "hotels_df = pd.read_csv(path_to_img_coords)"
   ]
  },
  {
   "cell_type": "code",
   "execution_count": 6,
   "id": "available-slovakia",
   "metadata": {},
   "outputs": [],
   "source": [
    "coords_wsg84 = hotels_df[['OID_','xcoord','ycoord','FassPktZ','Grad']]\n",
    "coords_lv95 = hotels_df[['OID_','FassPktX','FassPktY','FassPktZ','Grad']]"
   ]
  },
  {
   "cell_type": "code",
   "execution_count": 7,
   "id": "retained-virus",
   "metadata": {},
   "outputs": [],
   "source": [
    "# driver.close()"
   ]
  },
  {
   "cell_type": "code",
   "execution_count": 8,
   "id": "exact-mexican",
   "metadata": {},
   "outputs": [],
   "source": [
    "# Script parameters\n",
    "window = 'Standard' # 'Standard' | 'iFrame' | 'Mobile'\n",
    "sleep_time = 8\n",
    "start = 0"
   ]
  },
  {
   "cell_type": "code",
   "execution_count": 9,
   "id": "recognized-wichita",
   "metadata": {},
   "outputs": [
    {
     "name": "stdout",
     "output_type": "stream",
     "text": [
      "2021-06-21 14:58:27 |INFO | Screenshot 1/321050 done\n",
      "2021-06-21 14:58:36 |INFO | Screenshot 2/321050 done\n",
      "2021-06-21 14:58:44 |INFO | Screenshot 3/321050 done\n",
      "2021-06-21 14:58:53 |INFO | Screenshot 4/321050 done\n",
      "2021-06-21 14:59:02 |INFO | Screenshot 5/321050 done\n",
      "2021-06-21 14:59:10 |INFO | Screenshot 6/321050 done\n",
      "2021-06-21 14:59:19 |INFO | Screenshot 7/321050 done\n",
      "2021-06-21 14:59:28 |INFO | Screenshot 8/321050 done\n",
      "2021-06-21 14:59:37 |INFO | Screenshot 9/321050 done\n",
      "2021-06-21 14:59:45 |INFO | Screenshot 10/321050 done\n",
      "2021-06-21 14:59:54 |INFO | Screenshot 11/321050 done\n",
      "2021-06-21 15:00:03 |INFO | Screenshot 12/321050 done\n",
      "2021-06-21 15:00:11 |INFO | Screenshot 13/321050 done\n",
      "2021-06-21 15:00:20 |INFO | Screenshot 14/321050 done\n",
      "2021-06-21 15:00:29 |INFO | Screenshot 15/321050 done\n"
     ]
    }
   ],
   "source": [
    "# for i in range(29275,29276): \n",
    "for i in range(0,15): \n",
    "\n",
    "    oid_num, lat,lng,alt,head = coords_wsg84.loc[i,['OID_','xcoord','ycoord','FassPktZ','Grad']].values\n",
    "    cvs.getView(lng,lat,alt,head)\n",
    "    driver.get(\"http://localhost:8889/\")\n",
    "    \n",
    "    time.sleep(sleep_time)\n",
    "    driver.save_screenshot(image_coll_name+'/' + str(int(oid_num)) + '.png')\n",
    "    timestamp = datetime.datetime.now().strftime(\"%Y-%m-%d %H:%M:%S\")\n",
    "\n",
    "    print(timestamp + ' |INFO | Screenshot ' + str(i+1) + '/' + str(coords_wsg84.shape[0]) + ' done')"
   ]
  },
  {
   "cell_type": "code",
   "execution_count": 10,
   "id": "powered-starter",
   "metadata": {},
   "outputs": [
    {
     "data": {
      "text/plain": [
       "'9345'"
      ]
     },
     "execution_count": 10,
     "metadata": {},
     "output_type": "execute_result"
    }
   ],
   "source": [
    "str(int(oid_num))"
   ]
  },
  {
   "cell_type": "code",
   "execution_count": null,
   "id": "herbal-candle",
   "metadata": {},
   "outputs": [],
   "source": []
  }
 ],
 "metadata": {
  "kernelspec": {
   "display_name": "Python 3",
   "language": "python",
   "name": "python3"
  },
  "language_info": {
   "codemirror_mode": {
    "name": "ipython",
    "version": 3
   },
   "file_extension": ".py",
   "mimetype": "text/x-python",
   "name": "python",
   "nbconvert_exporter": "python",
   "pygments_lexer": "ipython3",
   "version": "3.8.8"
  }
 },
 "nbformat": 4,
 "nbformat_minor": 5
}
